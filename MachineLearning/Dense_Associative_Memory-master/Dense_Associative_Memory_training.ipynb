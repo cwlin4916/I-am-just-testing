{
 "cells": [
  {
   "cell_type": "markdown",
   "metadata": {},
   "source": [
    "### This code illustrates the learning algorithm for Dense Associative Memories from [Dense Associative Memory for Pattern Recognition](https://arxiv.org/abs/1606.01164) on MNIST data set.\n",
    "If you want to learn more about Dense Associative Memories, check out a [NIPS 2016 talk](https://channel9.msdn.com/Events/Neural-Information-Processing-Systems-Conference/Neural-Information-Processing-Systems-Conference-NIPS-2016/Dense-Associative-Memory-for-Pattern-Recognition) or a [research seminar](https://www.youtube.com/watch?v=lvuAU_3t134). "
   ]
  },
  {
   "cell_type": "markdown",
   "metadata": {},
   "source": [
    "This cell loads the data and normalizes it to the [-1,1] range"
   ]
  },
  {
   "cell_type": "markdown",
   "metadata": {},
   "source": [
    "To draw a heatmap of the weights together with the errors on the training set (blue) and the test set (red) a helper function is created:"
   ]
  },
  {
   "cell_type": "markdown",
   "metadata": {},
   "source": [
    "This cell defines parameters of the algorithm: `n` - power of the rectified polynomial in [Eq 3](https://arxiv.org/abs/1606.01164); `m` - power of the loss function in [Eq 14](https://arxiv.org/abs/1606.01164); `K` - number of memories that are displayed as an `Ky` by `Kx` array by the helper function defined above; `eps0` - initial learning rate that is exponentially annealed during training with the damping parameter `f`, as explained in [Eq 12](https://arxiv.org/abs/1606.01164); `p` - momentum as defined in [Eq 13](https://arxiv.org/abs/1606.01164); `mu` - the mean of the gaussian distribution that initializes the weights; `sigma` - the standard deviation of that gaussian; `Nep` - number of epochs; `Num` - size of the training minibatch; `NumT` - size of the test minibatch; `prec` - parameter that controls numerical precision of the weight updates. Parameter `beta` that is used in [Eq 9](https://arxiv.org/abs/1606.01164) is defined as `beta=1/Temp**n`. The choice of temperatures `Temp` as well as the duration of the annealing `thresh_pret` is discussed in [Appendix A](https://arxiv.org/abs/1606.01164). "
   ]
  },
  {
   "cell_type": "markdown",
   "metadata": {},
   "source": [
    "Kx=10              # Number of memories per row on the weights plot\n",
    "Ky=10              # Number of memories per column on the weigths plot\n",
    "K=Kx*Ky            # Number of memories\n",
    "n=20               # Power of the interaction vertex in the DAM energy function\n",
    "m=30               # Power of the loss function\n",
    "eps0=4.0e-2        # Initial learning rate  \n",
    "f=0.998            # Damping parameter for the learning rate\n",
    "p=0.6              # Momentum\n",
    "Nep=300            # Number of epochs\n",
    "Temp_in=540.       # Initial temperature\n",
    "Temp_f=540.        # Final temperature\n",
    "thresh_pret=200    # Length of the temperature ramp\n",
    "Num=1000           # Size of training minibatch     \n",
    "NumT=5000          # Size of test minibatch \n",
    "mu=-0.3            # Weights initialization mean\n",
    "sigma=0.3          # Weights initialization std\n",
    "prec=1.0e-30       # Precision of weight update"
   ]
  },
  {
   "cell_type": "markdown",
   "metadata": {},
   "source": [
    "This cell defines the main code. The external loop runs over epochs `nep`, the internal loop runs over minibatches.  The weights are updated after each minibatch in a way so that the largest update is equal to the learning rate `eps` at that epoch, see [Eq 13](https://arxiv.org/abs/1606.01164). The weights are displayed by the helper function after each epoch. "
   ]
  },
  {
   "cell_type": "code",
   "execution_count": 32,
   "metadata": {},
   "outputs": [
    {
     "name": "stdout",
     "output_type": "stream",
     "text": [
      "Total training samples: 50000\n",
      "Total test samples: 8000\n",
      "Feature dimension: 784\n",
      "Number of classes: 10\n"
     ]
    }
   ],
   "source": [
    "import scipy.io\n",
    "import numpy as np\n",
    "import matplotlib.pyplot as plt\n",
    "from tqdm import tqdm\n",
    "\n",
    "# Load MNIST dataset\n",
    "mat = scipy.io.loadmat('mnist_all.mat')\n",
    "\n",
    "N = 784    # Input dimension (28x28 pixels)\n",
    "Nc = 10    # Number of classes (digits 0-9)\n",
    "samples_per_class = 5000  # Number of samples per class for training\n",
    "test_samples_per_class = 800  # Number of samples per class for testing\n",
    "\n",
    "# Process training data\n",
    "M = np.zeros((0,N))\n",
    "Lab = np.zeros((Nc,0))\n",
    "for i in range(Nc):\n",
    "    # Take only first 5000 samples from each class\n",
    "    class_data = mat['train'+str(i)][:samples_per_class]\n",
    "    M = np.concatenate((M, class_data), axis=0)\n",
    "    # Create one-vs-all labels (-1,1 encoding)\n",
    "    lab1 = -np.ones((Nc, samples_per_class))\n",
    "    lab1[i,:] = 1.0\n",
    "    Lab = np.concatenate((Lab, lab1), axis=1)\n",
    "\n",
    "# Normalize to [-1,1] range and transpose\n",
    "M = 2*M/255.0-1\n",
    "M = M.T\n",
    "\n",
    "# Process test data\n",
    "MT = np.zeros((0,N))\n",
    "LabT = np.zeros((Nc,0))\n",
    "for i in range(Nc):\n",
    "    # Take only first 900 samples from each class for testing\n",
    "    class_data = mat['test'+str(i)][:test_samples_per_class]\n",
    "    MT = np.concatenate((MT, class_data), axis=0)\n",
    "    # Create one-vs-all labels (-1,1 encoding)\n",
    "    lab1 = -np.ones((Nc, test_samples_per_class))\n",
    "    lab1[i,:] = 1.0\n",
    "    LabT = np.concatenate((LabT, lab1), axis=1)\n",
    "\n",
    "# Normalize to [-1,1] range and transpose\n",
    "MT = 2*MT/255.0-1\n",
    "MT = MT.T\n",
    "\n",
    "# Print data integrity information\n",
    "print(f\"Total training samples: {M.shape[1]}\")\n",
    "print(f\"Total test samples: {MT.shape[1]}\")\n",
    "print(f\"Feature dimension: {M.shape[0]}\")\n",
    "print(f\"Number of classes: {Lab.shape[0]}\")"
   ]
  },
  {
   "cell_type": "code",
   "execution_count": 33,
   "metadata": {},
   "outputs": [
    {
     "name": "stdout",
     "output_type": "stream",
     "text": [
      "Total training samples: 50000 (should be 50000)\n",
      "Total test samples: 8992 (should be 9000)\n",
      "Feature dimension: 784 (should be 784)\n",
      "Number of classes: 10 (should be 10)\n"
     ]
    },
    {
     "name": "stderr",
     "output_type": "stream",
     "text": [
      "Training K=50: 100%|██████████| 300/300 [06:26<00:00,  1.29s/it]\n"
     ]
    },
    {
     "name": "stdout",
     "output_type": "stream",
     "text": [
      "K=50: α=0.4420, Test Acc=0.4292\n"
     ]
    },
    {
     "name": "stderr",
     "output_type": "stream",
     "text": [
      "Training K=100: 100%|██████████| 300/300 [09:37<00:00,  1.93s/it]\n"
     ]
    },
    {
     "name": "stdout",
     "output_type": "stream",
     "text": [
      "K=100: α=0.6384, Test Acc=0.6430\n"
     ]
    },
    {
     "name": "stderr",
     "output_type": "stream",
     "text": [
      "Training K=150: 100%|██████████| 300/300 [12:34<00:00,  2.52s/it]\n"
     ]
    },
    {
     "name": "stdout",
     "output_type": "stream",
     "text": [
      "K=150: α=0.6489, Test Acc=0.6521\n"
     ]
    },
    {
     "name": "stderr",
     "output_type": "stream",
     "text": [
      "Training K=200: 100%|██████████| 300/300 [15:09<00:00,  3.03s/it]\n"
     ]
    },
    {
     "name": "stdout",
     "output_type": "stream",
     "text": [
      "K=200: α=0.7553, Test Acc=0.7655\n"
     ]
    },
    {
     "name": "stderr",
     "output_type": "stream",
     "text": [
      "Training K=250: 100%|██████████| 300/300 [17:35<00:00,  3.52s/it]\n"
     ]
    },
    {
     "name": "stdout",
     "output_type": "stream",
     "text": [
      "K=250: α=0.7624, Test Acc=0.7787\n"
     ]
    },
    {
     "data": {
      "image/png": "[encoded data removed]",
      "text/plain": [
       "<Figure size 1200x500 with 2 Axes>"
      ]
     },
     "metadata": {},
     "output_type": "display_data"
    }
   ],
   "source": [
    "import scipy.io\n",
    "import numpy as np\n",
    "import matplotlib.pyplot as plt\n",
    "from tqdm import tqdm\n",
    "\n",
    "# Load and prepare data\n",
    "def prepare_data(samples_per_class=5000, test_samples_per_class=900):\n",
    "    \"\"\"\n",
    "    Prepare fixed-size training and test sets from MNIST\n",
    "    \"\"\"\n",
    "    mat = scipy.io.loadmat('mnist_all.mat')\n",
    "    N = 784    # Input dimension\n",
    "    Nc = 10    # Number of classes\n",
    "\n",
    "    # Process training data\n",
    "    M = np.zeros((0,N))\n",
    "    Lab = np.zeros((Nc,0))\n",
    "    for i in range(Nc):\n",
    "        class_data = mat['train'+str(i)][:samples_per_class]\n",
    "        M = np.concatenate((M, class_data), axis=0)\n",
    "        lab1 = -np.ones((Nc, samples_per_class))\n",
    "        lab1[i,:] = 1.0\n",
    "        Lab = np.concatenate((Lab, lab1), axis=1)\n",
    "    M = 2*M/255.0-1\n",
    "    M = M.T\n",
    "\n",
    "    # Process test data\n",
    "    MT = np.zeros((0,N))\n",
    "    LabT = np.zeros((Nc,0))\n",
    "    for i in range(Nc):\n",
    "        class_data = mat['test'+str(i)][:test_samples_per_class]\n",
    "        MT = np.concatenate((MT, class_data), axis=0)\n",
    "        lab1 = -np.ones((Nc, test_samples_per_class))\n",
    "        lab1[i,:] = 1.0\n",
    "        LabT = np.concatenate((LabT, lab1), axis=1)\n",
    "    MT = 2*MT/255.0-1\n",
    "    MT = MT.T\n",
    "\n",
    "    print(f\"Total training samples: {M.shape[1]} (should be {Nc*samples_per_class})\")\n",
    "    print(f\"Total test samples: {MT.shape[1]} (should be {Nc*test_samples_per_class})\")\n",
    "    print(f\"Feature dimension: {M.shape[0]} (should be {N})\")\n",
    "    print(f\"Number of classes: {Lab.shape[0]} (should be {Nc})\")\n",
    "    \n",
    "    return M, Lab, MT, LabT\n",
    "\n",
    "def train_and_evaluate(K, M_train, Lab_train, MT, LabT, params):\n",
    "    \"\"\"\n",
    "    Train DAM model and evaluate its performance\n",
    "    \"\"\"\n",
    "    N = M_train.shape[0]\n",
    "    Nc = Lab_train.shape[0]\n",
    "    Num = params['Num']\n",
    "    \n",
    "    # Initialize weights\n",
    "    KS = np.random.normal(params['mu'], params['sigma'], (K, N+Nc))\n",
    "    VKS = np.zeros((K, N+Nc))\n",
    "    \n",
    "    # Prepare auxiliary matrix for labels\n",
    "    aux = -np.ones((Nc, Num*Nc))\n",
    "    for d in range(Nc):\n",
    "        aux[d,d*Num:(d+1)*Num] = 1.\n",
    "    \n",
    "    # Training loop\n",
    "    for nep in tqdm(range(params['Nep']), desc=f\"Training K={K}\"):\n",
    "        eps = params['eps0'] * params['f']**nep\n",
    "        \n",
    "        # Temperature scheduling\n",
    "        if nep <= params['thresh_pret']:\n",
    "            Temp = params['Temp_in'] + (params['Temp_f']-params['Temp_in'])*nep/params['thresh_pret']\n",
    "        else:\n",
    "            Temp = params['Temp_f']\n",
    "        beta = 1./Temp**params['n']\n",
    "        \n",
    "        # Shuffle training data\n",
    "        perm = np.random.permutation(M_train.shape[1])\n",
    "        M_train = M_train[:,perm]\n",
    "        Lab_train = Lab_train[:,perm]\n",
    "        \n",
    "        num_correct = 0\n",
    "        # Mini-batch training\n",
    "        for k in range(M_train.shape[1]//Num):\n",
    "            # Prepare batch data\n",
    "            v = M_train[:,k*Num:(k+1)*Num]\n",
    "            t_R = Lab_train[:,k*Num:(k+1)*Num]\n",
    "            t = np.reshape(t_R,(1,Nc*Num))\n",
    "            \n",
    "            # Forward pass\n",
    "            u = np.concatenate((v, -np.ones((Nc,Num))), axis=0)\n",
    "            uu = np.tile(u,(1,Nc))\n",
    "            vv = np.concatenate((uu[:N,:],aux),axis=0)\n",
    "            \n",
    "            KSvv = np.maximum(np.dot(KS,vv),0)\n",
    "            KSuu = np.maximum(np.dot(KS,uu),0)\n",
    "            Y = np.tanh(beta*np.sum(KSvv**params['n']-KSuu**params['n'], axis=0))\n",
    "            Y_R = np.reshape(Y,(Nc,Num))\n",
    "            \n",
    "            # Compute gradients and update weights\n",
    "            d_KS = np.dot(np.tile((t-Y)**(2*params['m']-1)*(1-Y)*(1+Y), (K,1))*KSvv**(params['n']-1),vv.T) - \\\n",
    "                   np.dot(np.tile((t-Y)**(2*params['m']-1)*(1-Y)*(1+Y), (K,1))*KSuu**(params['n']-1),uu.T)\n",
    "            \n",
    "            VKS = params['p']*VKS + d_KS\n",
    "            nc = np.amax(np.absolute(VKS),axis=1).reshape(K,1)\n",
    "            nc[nc<params['prec']] = params['prec']\n",
    "            ncc = np.tile(nc,(1,N+Nc))\n",
    "            KS += eps*VKS/ncc\n",
    "            KS = np.clip(KS, a_min=-1., a_max=1.)\n",
    "            \n",
    "            correct = np.argmax(Y_R,axis=0) == np.argmax(t_R,axis=0)\n",
    "            num_correct += np.sum(correct)\n",
    "    \n",
    "    # Compute final metrics\n",
    "    train_recovery = evaluate_recovery(KS, M_train, Lab_train, params)\n",
    "    test_acc = evaluate_recovery(KS, MT, LabT, params)\n",
    "    \n",
    "    return train_recovery, test_acc\n",
    "\n",
    "def evaluate_recovery(KS, data, labels, params):\n",
    "    \"\"\"\n",
    "    Evaluate model's recovery rate on given dataset\n",
    "    \"\"\"\n",
    "    N = data.shape[0]\n",
    "    Nc = labels.shape[0]\n",
    "    Num = params['Num']\n",
    "    num_correct = 0\n",
    "    \n",
    "    beta = 1./params['Temp_f']**params['n']\n",
    "    aux = -np.ones((Nc, Num*Nc))\n",
    "    for d in range(Nc):\n",
    "        aux[d,d*Num:(d+1)*Num] = 1.\n",
    "    \n",
    "    for k in range(data.shape[1]//Num):\n",
    "        v = data[:,k*Num:(k+1)*Num]\n",
    "        t_R = labels[:,k*Num:(k+1)*Num]\n",
    "        \n",
    "        u = np.concatenate((v, -np.ones((Nc,Num))), axis=0)\n",
    "        uu = np.tile(u,(1,Nc))\n",
    "        vv = np.concatenate((uu[:N,:],aux),axis=0)\n",
    "        \n",
    "        KSvv = np.maximum(np.dot(KS,vv),0)\n",
    "        KSuu = np.maximum(np.dot(KS,uu),0)\n",
    "        Y = np.tanh(beta*np.sum(KSvv**params['n']-KSuu**params['n'], axis=0))\n",
    "        Y_R = np.reshape(Y,(Nc,Num))\n",
    "        \n",
    "        correct = np.argmax(Y_R,axis=0) == np.argmax(t_R,axis=0)\n",
    "        num_correct += np.sum(correct)\n",
    "    \n",
    "    return num_correct / (data.shape[1]//Num * Num)\n",
    "\n",
    "def main():\n",
    "    # Load data\n",
    "    M, Lab, MT, LabT = prepare_data(samples_per_class=5000, test_samples_per_class=900)\n",
    "    \n",
    "    # Experiment parameters\n",
    "    params = {\n",
    "        'n': 2,               # Power of DAM energy function\n",
    "        'm': 3,               # Power of loss function\n",
    "        'eps0': 4.0e-2,        # Initial learning rate\n",
    "        'f': 0.998,            # Learning rate decay\n",
    "        'p': 0.6,              # Momentum\n",
    "        'Nep': 300,            # Number of epochs\n",
    "        'Temp_in': 540.,       # Initial temperature\n",
    "        'Temp_f': 540.,        # Final temperature\n",
    "        'thresh_pret': 200,    # Temperature ramp length\n",
    "        'Num': 100,            # Batch size\n",
    "        'mu': -0.3,            # Weight initialization mean\n",
    "        'sigma': 0.3,          # Weight initialization std\n",
    "        'prec': 1.0e-30       # Weight update precision\n",
    "    }\n",
    "    \n",
    "    # Test different K values\n",
    "    K_values = [50, 100, 150, 200, 250]\n",
    "    results = []\n",
    "    \n",
    "    for K in K_values:\n",
    "        train_recovery, test_acc = train_and_evaluate(\n",
    "            K, M, Lab, MT, LabT, params\n",
    "        )\n",
    "        results.append({\n",
    "            'K': K,\n",
    "            'alpha': train_recovery,\n",
    "            'test_acc': test_acc\n",
    "        })\n",
    "        print(f\"K={K}: α={train_recovery:.4f}, Test Acc={test_acc:.4f}\")\n",
    "    \n",
    "    # Plot results\n",
    "    plt.figure(figsize=(12, 5))\n",
    "    \n",
    "    # Plot 1: K vs α\n",
    "    plt.subplot(121)\n",
    "    plt.plot([r['K'] for r in results], [r['alpha'] for r in results], 'bo-')\n",
    "    plt.xlabel('K (Memory size)')\n",
    "    plt.ylabel('α (Memory retention rate)')\n",
    "    plt.title('K vs Memory Retention')\n",
    "    plt.grid(True)\n",
    "    \n",
    "    # Plot 2: α vs Test Accuracy\n",
    "    plt.subplot(122)\n",
    "    plt.plot([r['alpha'] for r in results], [r['test_acc'] for r in results], 'ro-')\n",
    "    plt.xlabel('α (Memory retention rate)')\n",
    "    plt.ylabel('Test Accuracy')\n",
    "    plt.title('Memory Retention vs Test Performance')\n",
    "    plt.grid(True)\n",
    "    \n",
    "    plt.tight_layout()\n",
    "    plt.show()\n",
    "\n",
    "if __name__ == \"__main__\":\n",
    "    main()"
   ]
  }
 ],
 "metadata": {
  "anaconda-cloud": {},
  "kernelspec": {
   "display_name": "hopfield",
   "language": "python",
   "name": "python3"
  },
  "language_info": {
   "codemirror_mode": {
    "name": "ipython",
    "version": 3
   },
   "file_extension": ".py",
   "mimetype": "text/x-python",
   "name": "python",
   "nbconvert_exporter": "python",
   "pygments_lexer": "ipython3",
   "version": "3.12.7"
  }
 },
 "nbformat": 4,
 "nbformat_minor": 1
}
